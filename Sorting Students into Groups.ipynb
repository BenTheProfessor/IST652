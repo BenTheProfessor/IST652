{
 "cells": [
  {
   "cell_type": "markdown",
   "metadata": {},
   "source": [
    "# Group Selection: Advanced Group Project"
   ]
  },
  {
   "cell_type": "markdown",
   "metadata": {},
   "source": [
    "### The following code is designed to randomly pair students together and assign them to a lecture week"
   ]
  },
  {
   "cell_type": "markdown",
   "metadata": {},
   "source": [
    "---"
   ]
  },
  {
   "cell_type": "markdown",
   "metadata": {},
   "source": [
    "## Approach:\n",
    "##### Section I: Paring Students\n",
    "- Ingest (i.e. Read-in) data from a file containing all students in IST652 M002\n",
    "- Convert this data into a list of Family Names\n",
    "- Initialize an empty list which will contain pairs of students\n",
    "- Loop through the list (while) and pair students into groups of two.\n",
    "    - The pair of students will be collected as a Tuple\n",
    "    - Append the student-tuple to the list of student pairs\n",
    "    - Once a student is grouped, remove them from the original list (e.g. choosing from a list without replacement)\n",
    "- If there remains a lone student, then add them to an existing group, making them a group of 3.\n",
    "\n",
    "##### Section II:  Assigning Weeks\n",
    "- Create a list of weeks 2 through 14 (List Comprehension)\n",
    "    - No Presentation in Week 1\n",
    "- Loop through each of the weeks and randomly assign it to a pair of students\n",
    "- If there remain students who are unassigned to a week, start the process again\n",
    "    - Beginning at week 5\n",
    "---"
   ]
  },
  {
   "cell_type": "code",
   "execution_count": 1,
   "metadata": {},
   "outputs": [],
   "source": [
    "# python ships (i.e. comes with the software) with a random number and selection package/module.\n",
    "# We will be using the function called randrange from this package\n",
    "import random\n",
    "\n",
    "# Importing a CSV handling package\n",
    "import csv\n",
    "\n",
    "# pprint stands for pretty print and improves the appearance of printed values\n",
    "# Notice that I am importing only a single function from pprint, instead of importing the entire package\n",
    "from pprint import pprint\n",
    "\n",
    "# Notice that I am aliasing pandas as pd - which is common practice and saves key strokes\n",
    "import pandas as pd"
   ]
  },
  {
   "cell_type": "markdown",
   "metadata": {},
   "source": [
    "## Section I"
   ]
  },
  {
   "cell_type": "code",
   "execution_count": 2,
   "metadata": {},
   "outputs": [],
   "source": [
    "# Tell Python where to look for the CSV with the student data\n",
    "# Notice no file path, this is because the CSV exists in the same place as this notebook, so it assumes the local dir\n",
    "file = 'IST652_students.csv'"
   ]
  },
  {
   "cell_type": "markdown",
   "metadata": {},
   "source": [
    "Open the CSV using the CSV package:\n",
    "- https://docs.python.org/2/library/csv.html#csv.reader"
   ]
  },
  {
   "cell_type": "code",
   "execution_count": 3,
   "metadata": {},
   "outputs": [
    {
     "name": "stdout",
     "output_type": "stream",
     "text": [
      "[['Family_Name', 'First_Initial'],\n",
      " ['Bailey', 'A'],\n",
      " ['Bajpai', 'S'],\n",
      " ['Chen', 'Q'],\n",
      " ['Choi', 'B'],\n",
      " ['Dias', 'N'],\n",
      " ['Dong', 'Y'],\n",
      " ['Dunn', 'J'],\n",
      " ['Hegde', 'V'],\n",
      " ['Hwang', 'J'],\n",
      " ['Lewis', 'A'],\n",
      " ['Lo', 'J'],\n",
      " ['Nguyen', 'A'],\n",
      " ['Park', 'W'],\n",
      " ['Penaloza', 'L'],\n",
      " ['Qian', 'Y'],\n",
      " ['Rayi', 'P'],\n",
      " ['Scipione', 'V'],\n",
      " ['Sheth', 'M'],\n",
      " ['Shrivastava', 'A'],\n",
      " ['So', 'H'],\n",
      " ['Trevino', 'D'],\n",
      " ['Wang', 'M'],\n",
      " ['Wang', 'Q'],\n",
      " ['Wang', 'Y'],\n",
      " ['Wu', 'W'],\n",
      " ['Yang', 'C'],\n",
      " ['Yao', 'Y'],\n",
      " ['Zeugner', 'J']]\n"
     ]
    }
   ],
   "source": [
    "# 1. Itialize the list where the data will go\n",
    "# 2. Open the file\n",
    "# 3. Append the CSV iterable to the studdent_data list - row by row creating a list of lists\n",
    "\n",
    "student_data = []\n",
    "\n",
    "with open(file, 'r') as csvfile:\n",
    "    reader = csv.reader(csvfile)\n",
    "    for row in reader:\n",
    "        student_data.append(row)\n",
    "\n",
    "# pprint instead of print\n",
    "pprint(student_data)"
   ]
  },
  {
   "cell_type": "code",
   "execution_count": 14,
   "metadata": {},
   "outputs": [
    {
     "name": "stdout",
     "output_type": "stream",
     "text": [
      "['A. Bailey',\n",
      " 'S. Bajpai',\n",
      " 'Q. Chen',\n",
      " 'B. Choi',\n",
      " 'N. Dias',\n",
      " 'Y. Dong',\n",
      " 'J. Dunn',\n",
      " 'V. Hegde',\n",
      " 'J. Hwang',\n",
      " 'A. Lewis',\n",
      " 'J. Lo',\n",
      " 'A. Nguyen',\n",
      " 'W. Park',\n",
      " 'L. Penaloza',\n",
      " 'Y. Qian',\n",
      " 'P. Rayi',\n",
      " 'V. Scipione',\n",
      " 'M. Sheth',\n",
      " 'A. Shrivastava',\n",
      " 'H. So',\n",
      " 'D. Trevino',\n",
      " 'M. Wang',\n",
      " 'Q. Wang',\n",
      " 'Y. Wang',\n",
      " 'W. Wu',\n",
      " 'C. Yang',\n",
      " 'Y. Yao',\n",
      " 'J. Zeugner']\n"
     ]
    },
    {
     "data": {
      "text/plain": [
       "\"\\nEquivalently, I could have written this:\\n\\nstudents = []\\n\\nfor student in student_data[1:]:\\n    student_name = student[1] + '. '+ student[0]\\n    students.append(student_name)\\n    \\n\""
      ]
     },
     "execution_count": 14,
     "metadata": {},
     "output_type": "execute_result"
    }
   ],
   "source": [
    "# Clean up the data formatting of each student name\n",
    "# Append the first initial, followed by '. ' (period + space) to the beginning of the family name\n",
    "\n",
    "students = [student[1] + '. '+ student[0] for student in student_data[1:]]# I am starting at index 1, 0 is the headers\n",
    "pprint(students)\n",
    "\n",
    "\"\"\"\n",
    "Equivalently, I could have written this:\n",
    "\n",
    "students = []\n",
    "\n",
    "for student in student_data[1:]:\n",
    "    student_name = student[1] + '. '+ student[0]\n",
    "    students.append(student_name)\n",
    "    \n",
    "\"\"\""
   ]
  },
  {
   "cell_type": "markdown",
   "metadata": {},
   "source": [
    "### Time to Pair the Students"
   ]
  },
  {
   "cell_type": "code",
   "execution_count": 5,
   "metadata": {},
   "outputs": [
    {
     "name": "stdout",
     "output_type": "stream",
     "text": [
      "'M. Sheth'\n"
     ]
    }
   ],
   "source": [
    "# Let's test the rand.choice function\n",
    "pprint(random.choice(students))"
   ]
  },
  {
   "cell_type": "code",
   "execution_count": 6,
   "metadata": {},
   "outputs": [
    {
     "name": "stdout",
     "output_type": "stream",
     "text": [
      "[('Q. Wang', 'J. Hwang'),\n",
      " ('N. Dias', 'L. Penaloza'),\n",
      " ('V. Scipione', 'A. Bailey'),\n",
      " ('S. Bajpai', 'A. Nguyen'),\n",
      " ('Y. Dong', 'V. Hegde'),\n",
      " ('C. Yang', 'A. Shrivastava'),\n",
      " ('Q. Chen', 'D. Trevino'),\n",
      " ('J. Lo', 'B. Choi'),\n",
      " ('Y. Wang', 'M. Sheth'),\n",
      " ('M. Wang', 'J. Zeugner'),\n",
      " ('P. Rayi', 'H. So'),\n",
      " ('Y. Qian', 'A. Lewis'),\n",
      " ('J. Dunn', 'W. Park'),\n",
      " ('Y. Yao', 'W. Wu')]\n"
     ]
    }
   ],
   "source": [
    "# Let's make a copy of my student list so that I can safely delete values but still retain my original list\n",
    "students_unpaired = students.copy()\n",
    "\n",
    "#initiatlize a list which will contain the pairs of students (as tuples)\n",
    "\n",
    "students_paired = []\n",
    "\n",
    "while len(students_unpaired)>1:\n",
    "    student1, student2 = '', ''\n",
    "    \n",
    "    while student1 == student2:\n",
    "        student1 = random.choice(students_unpaired)\n",
    "        student2 = random.choice(students_unpaired)\n",
    "\n",
    "        \n",
    "    pair = (student1, student2)\n",
    "    students_paired.append(pair)\n",
    "    indx1 = students_unpaired.index(student1)\n",
    "    del students_unpaired[indx1]\n",
    "    indx2 = students_unpaired.index(student2)\n",
    "    del students_unpaired[indx2]\n",
    "\n",
    "pprint(students_paired)"
   ]
  },
  {
   "cell_type": "code",
   "execution_count": 7,
   "metadata": {},
   "outputs": [],
   "source": [
    "# Hooray - We have our student pairs!"
   ]
  },
  {
   "cell_type": "markdown",
   "metadata": {},
   "source": [
    "## Section II"
   ]
  },
  {
   "cell_type": "code",
   "execution_count": 8,
   "metadata": {},
   "outputs": [],
   "source": [
    "# Create a list of Lecture Weeks from 2 to 14 using a list comprehension:"
   ]
  },
  {
   "cell_type": "markdown",
   "metadata": {},
   "source": [
    "https://docs.python.org/3/tutorial/datastructures.html#list-comprehensions"
   ]
  },
  {
   "cell_type": "code",
   "execution_count": 9,
   "metadata": {},
   "outputs": [
    {
     "name": "stdout",
     "output_type": "stream",
     "text": [
      "[2, 3, 4, 5, 6, 7, 8, 9, 10, 11, 12, 13, 14]\n"
     ]
    }
   ],
   "source": [
    "lecture_weeks = [x for x in range(2, 15)]\n",
    "\n",
    "# our range data type object is from a Class which constructs a list of numbers\n",
    "    #from start, end, and step-wise parameters\n",
    "\n",
    "# We used 15 as our upper bound for the range since the integer generation stops when this value is reached\n",
    "\n",
    "pprint(lecture_weeks)"
   ]
  },
  {
   "cell_type": "code",
   "execution_count": 10,
   "metadata": {},
   "outputs": [],
   "source": [
    "# Let's make a copy of my student-pairs list so that I can safely delete values but still retain my original list\n",
    "pairs_unassigned = students_paired.copy()\n",
    "\n",
    "# Initialize a dictionary where the key will be the student-pair tuple and the value will be the week they present\n",
    "paired_weeks = {}\n",
    "\n",
    "for week in lecture_weeks:\n",
    "    pair = random.choice(pairs_unassigned)\n",
    "    paired_weeks[pair] = week\n",
    "    \n",
    "    pair_indx = pairs_unassigned.index(pair)\n",
    "    del pairs_unassigned[pair_indx]\n",
    "\n",
    "# In case there are leftover pairs without a week\n",
    "# This could go out of bounds if the number of unallocated pairs is greater than the number of lecture days to choose\n",
    "### *** Note to self: Revise this coded later to resolve this issue ^^ *** \n",
    "\n",
    "if len(pairs_unassigned)>0:\n",
    "    for week in lecture_weeks[3:3+len(pairs_unassigned)]:\n",
    "        pair = random.choice(pairs_unassigned)\n",
    "        paired_weeks[pair] = week\n",
    "\n",
    "        pair_indx = pairs_unassigned.index(pair)\n",
    "        del pairs_unassigned[pair_indx]\n",
    "    "
   ]
  },
  {
   "cell_type": "code",
   "execution_count": 11,
   "metadata": {},
   "outputs": [
    {
     "data": {
      "text/plain": [
       "{('C. Yang', 'A. Shrivastava'): 5,\n",
       " ('J. Dunn', 'W. Park'): 10,\n",
       " ('J. Lo', 'B. Choi'): 8,\n",
       " ('M. Wang', 'J. Zeugner'): 11,\n",
       " ('N. Dias', 'L. Penaloza'): 2,\n",
       " ('P. Rayi', 'H. So'): 5,\n",
       " ('Q. Chen', 'D. Trevino'): 9,\n",
       " ('Q. Wang', 'J. Hwang'): 3,\n",
       " ('S. Bajpai', 'A. Nguyen'): 14,\n",
       " ('V. Scipione', 'A. Bailey'): 12,\n",
       " ('Y. Dong', 'V. Hegde'): 7,\n",
       " ('Y. Qian', 'A. Lewis'): 4,\n",
       " ('Y. Wang', 'M. Sheth'): 6,\n",
       " ('Y. Yao', 'W. Wu'): 13}"
      ]
     },
     "execution_count": 11,
     "metadata": {},
     "output_type": "execute_result"
    }
   ],
   "source": [
    "paired_weeks"
   ]
  },
  {
   "cell_type": "code",
   "execution_count": 13,
   "metadata": {},
   "outputs": [
    {
     "name": "stdout",
     "output_type": "stream",
     "text": [
      "[[2, ('N. Dias', 'L. Penaloza')],\n",
      " [3, ('Q. Wang', 'J. Hwang')],\n",
      " [4, ('Y. Qian', 'A. Lewis')],\n",
      " [5, ('C. Yang', 'A. Shrivastava')],\n",
      " [5, ('P. Rayi', 'H. So')],\n",
      " [6, ('Y. Wang', 'M. Sheth')],\n",
      " [7, ('Y. Dong', 'V. Hegde')],\n",
      " [8, ('J. Lo', 'B. Choi')],\n",
      " [9, ('Q. Chen', 'D. Trevino')],\n",
      " [10, ('J. Dunn', 'W. Park')],\n",
      " [11, ('M. Wang', 'J. Zeugner')],\n",
      " [12, ('V. Scipione', 'A. Bailey')],\n",
      " [13, ('Y. Yao', 'W. Wu')],\n",
      " [14, ('S. Bajpai', 'A. Nguyen')]]\n"
     ]
    }
   ],
   "source": [
    "# Beautify and Sort the pairs and their weeks\n",
    "pprint(sorted([[paired_weeks[x], x] for x in paired_weeks.keys()]))"
   ]
  },
  {
   "cell_type": "markdown",
   "metadata": {},
   "source": [
    "---"
   ]
  },
  {
   "cell_type": "markdown",
   "metadata": {},
   "source": [
    "<div style=\"text-align: right\"> \n",
    "## QED            "
   ]
  }
 ],
 "metadata": {
  "kernelspec": {
   "display_name": "Python 3",
   "language": "python",
   "name": "python3"
  },
  "language_info": {
   "codemirror_mode": {
    "name": "ipython",
    "version": 3
   },
   "file_extension": ".py",
   "mimetype": "text/x-python",
   "name": "python",
   "nbconvert_exporter": "python",
   "pygments_lexer": "ipython3",
   "version": "3.6.1"
  }
 },
 "nbformat": 4,
 "nbformat_minor": 2
}
