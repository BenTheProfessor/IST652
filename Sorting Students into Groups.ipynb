{
 "cells": [
  {
   "cell_type": "markdown",
   "metadata": {},
   "source": [
    "# Group Selection: Advanced Group Project"
   ]
  },
  {
   "cell_type": "markdown",
   "metadata": {},
   "source": [
    "### The following code is designed to randomly pair students together and assign them to a lecture week"
   ]
  },
  {
   "cell_type": "markdown",
   "metadata": {},
   "source": [
    "---"
   ]
  },
  {
   "cell_type": "markdown",
   "metadata": {},
   "source": [
    "## Approach:\n",
    "##### Section I: Paring Students\n",
    "- Ingest (i.e. Read-in) data from a file containing all students in IST652 M002\n",
    "- Convert this data into a list of Family Names\n",
    "- Initialize an empty list which will contain pairs of students\n",
    "- Loop through the list (while) and pair students into groups of two.\n",
    "    - The pair of students will be collected as a Tuple\n",
    "    - Append the student-tuple to the list of student pairs\n",
    "    - Once a student is grouped, remove them from the original list (e.g. choosing from a list without replacement)\n",
    "- If there remains a lone student, then add them to an existing group, making them a group of 3.\n",
    "\n",
    "##### Section II:  Assigning Group Numbers\n",
    "- Create a list of Groups 1 through 14 (List Comprehension)\n",
    "- Loop through each of the Groups and randomly assign it to a pair of students\n",
    "---"
   ]
  },
  {
   "cell_type": "code",
   "execution_count": 1,
   "metadata": {},
   "outputs": [],
   "source": [
    "# python ships (i.e. comes with the software) with a random number and selection package/module.\n",
    "# We will be using the function called randrange from this package\n",
    "import random\n",
    "\n",
    "# Importing a CSV handling package\n",
    "import csv\n",
    "\n",
    "# pprint stands for pretty print and improves the appearance of printed values\n",
    "# Notice that I am importing only a single function from pprint, instead of importing the entire package\n",
    "from pprint import pprint\n",
    "\n",
    "# Notice that I am aliasing pandas as pd - which is common practice and saves key strokes\n",
    "import pandas as pd"
   ]
  },
  {
   "cell_type": "markdown",
   "metadata": {},
   "source": [
    "## Section I"
   ]
  },
  {
   "cell_type": "code",
   "execution_count": 2,
   "metadata": {},
   "outputs": [],
   "source": [
    "# Tell Python where to look for the CSV with the student data\n",
    "# Notice no file path, this is because the CSV exists in the same place as this notebook, so it assumes the local dir\n",
    "file = 'IST652_students.csv'"
   ]
  },
  {
   "cell_type": "markdown",
   "metadata": {},
   "source": [
    "Open the CSV using the CSV package:\n",
    "- https://docs.python.org/2/library/csv.html#csv.reader"
   ]
  },
  {
   "cell_type": "code",
   "execution_count": 3,
   "metadata": {},
   "outputs": [
    {
     "name": "stdout",
     "output_type": "stream",
     "text": [
      "[['Family_Name', 'First_Initial'],\n",
      " ['Bailey', 'A'],\n",
      " ['Bajpai', 'S'],\n",
      " ['Chen', 'Q'],\n",
      " ['Choi', 'B'],\n",
      " ['Dias', 'N'],\n",
      " ['Dong', 'Y'],\n",
      " ['Dunn', 'J'],\n",
      " ['Hegde', 'V'],\n",
      " ['Hwang', 'J'],\n",
      " ['Lewis', 'A'],\n",
      " ['Lo', 'J'],\n",
      " ['Nguyen', 'A'],\n",
      " ['Park', 'W'],\n",
      " ['Penaloza', 'L'],\n",
      " ['Qian', 'Y'],\n",
      " ['Rayi', 'P'],\n",
      " ['Scipione', 'V'],\n",
      " ['Sheth', 'M'],\n",
      " ['Shrivastava', 'A'],\n",
      " ['So', 'H'],\n",
      " ['Trevino', 'D'],\n",
      " ['Wang', 'M'],\n",
      " ['Wang', 'Q'],\n",
      " ['Wang', 'Y'],\n",
      " ['Wu', 'W'],\n",
      " ['Yang', 'C'],\n",
      " ['Yao', 'Y'],\n",
      " ['Zeugner', 'J']]\n"
     ]
    }
   ],
   "source": [
    "# 1. Itialize the list where the data will go\n",
    "# 2. Open the file\n",
    "# 3. Append the CSV iterable to the studdent_data list - row by row creating a list of lists\n",
    "\n",
    "student_data = []\n",
    "\n",
    "with open(file, 'r') as csvfile:\n",
    "    reader = csv.reader(csvfile)\n",
    "    for row in reader:\n",
    "        student_data.append(row)\n",
    "\n",
    "# pprint instead of print\n",
    "pprint(student_data)"
   ]
  },
  {
   "cell_type": "code",
   "execution_count": 14,
   "metadata": {},
   "outputs": [
    {
     "name": "stdout",
     "output_type": "stream",
     "text": [
      "['A. Bailey',\n",
      " 'S. Bajpai',\n",
      " 'Q. Chen',\n",
      " 'B. Choi',\n",
      " 'N. Dias',\n",
      " 'Y. Dong',\n",
      " 'J. Dunn',\n",
      " 'V. Hegde',\n",
      " 'J. Hwang',\n",
      " 'A. Lewis',\n",
      " 'J. Lo',\n",
      " 'A. Nguyen',\n",
      " 'W. Park',\n",
      " 'L. Penaloza',\n",
      " 'Y. Qian',\n",
      " 'P. Rayi',\n",
      " 'V. Scipione',\n",
      " 'M. Sheth',\n",
      " 'A. Shrivastava',\n",
      " 'H. So',\n",
      " 'D. Trevino',\n",
      " 'M. Wang',\n",
      " 'Q. Wang',\n",
      " 'Y. Wang',\n",
      " 'W. Wu',\n",
      " 'C. Yang',\n",
      " 'Y. Yao',\n",
      " 'J. Zeugner']\n"
     ]
    },
    {
     "data": {
      "text/plain": [
       "\"\\nEquivalently, I could have written this:\\n\\nstudents = []\\n\\nfor student in student_data[1:]:\\n    student_name = student[1] + '. '+ student[0]\\n    students.append(student_name)\\n    \\n\""
      ]
     },
     "execution_count": 14,
     "metadata": {},
     "output_type": "execute_result"
    }
   ],
   "source": [
    "# Clean up the data formatting of each student name\n",
    "# Append the first initial, followed by '. ' (period + space) to the beginning of the family name\n",
    "\n",
    "students = [student[1] + '. '+ student[0] for student in student_data[1:]]# I am starting at index 1, 0 is the headers\n",
    "pprint(students)\n",
    "\n",
    "\"\"\"\n",
    "Equivalently, I could have written this:\n",
    "\n",
    "students = []\n",
    "\n",
    "for student in student_data[1:]:\n",
    "    student_name = student[1] + '. '+ student[0]\n",
    "    students.append(student_name)\n",
    "    \n",
    "\"\"\""
   ]
  },
  {
   "cell_type": "markdown",
   "metadata": {},
   "source": [
    "### Time to Pair the Students"
   ]
  },
  {
   "cell_type": "code",
   "execution_count": 5,
   "metadata": {},
   "outputs": [
    {
     "name": "stdout",
     "output_type": "stream",
     "text": [
      "'M. Sheth'\n"
     ]
    }
   ],
   "source": [
    "# Let's test the rand.choice function\n",
    "pprint(random.choice(students))"
   ]
  },
  {
   "cell_type": "code",
   "execution_count": 6,
   "metadata": {},
   "outputs": [
    {
     "name": "stdout",
     "output_type": "stream",
     "text": [
      "[('Q. Wang', 'J. Hwang'),\n",
      " ('N. Dias', 'L. Penaloza'),\n",
      " ('V. Scipione', 'A. Bailey'),\n",
      " ('S. Bajpai', 'A. Nguyen'),\n",
      " ('Y. Dong', 'V. Hegde'),\n",
      " ('C. Yang', 'A. Shrivastava'),\n",
      " ('Q. Chen', 'D. Trevino'),\n",
      " ('J. Lo', 'B. Choi'),\n",
      " ('Y. Wang', 'M. Sheth'),\n",
      " ('M. Wang', 'J. Zeugner'),\n",
      " ('P. Rayi', 'H. So'),\n",
      " ('Y. Qian', 'A. Lewis'),\n",
      " ('J. Dunn', 'W. Park'),\n",
      " ('Y. Yao', 'W. Wu')]\n"
     ]
    }
   ],
   "source": [
    "# Let's make a copy of my student list so that I can safely delete values but still retain my original list\n",
    "students_unpaired = students.copy()\n",
    "\n",
    "#initiatlize a list which will contain the pairs of students (as tuples)\n",
    "\n",
    "students_paired = []\n",
    "\n",
    "while len(students_unpaired)>1:\n",
    "    student1, student2 = '', ''\n",
    "    \n",
    "    while student1 == student2:\n",
    "        student1 = random.choice(students_unpaired)\n",
    "        student2 = random.choice(students_unpaired)\n",
    "\n",
    "        \n",
    "    pair = (student1, student2)\n",
    "    students_paired.append(pair)\n",
    "    indx1 = students_unpaired.index(student1)\n",
    "    del students_unpaired[indx1]\n",
    "    indx2 = students_unpaired.index(student2)\n",
    "    del students_unpaired[indx2]\n",
    "\n",
    "pprint(students_paired)"
   ]
  },
  {
   "cell_type": "code",
   "execution_count": 7,
   "metadata": {},
   "outputs": [],
   "source": [
    "# Hooray - We have our student pairs!"
   ]
  },
  {
   "cell_type": "markdown",
   "metadata": {},
   "source": [
    "## Section II"
   ]
  },
  {
   "cell_type": "code",
   "execution_count": 8,
   "metadata": {},
   "outputs": [],
   "source": [
    "# Create a list of Lecture Weeks from 2 to 14 using a list comprehension:"
   ]
  },
  {
   "cell_type": "markdown",
   "metadata": {},
   "source": [
    "https://docs.python.org/3/tutorial/datastructures.html#list-comprehensions"
   ]
  },
  {
   "cell_type": "code",
   "execution_count": 25,
   "metadata": {},
   "outputs": [
    {
     "name": "stdout",
     "output_type": "stream",
     "text": [
      "[1, 2, 3, 4, 5, 6, 7, 8, 9, 10, 11, 12, 13, 14]\n"
     ]
    }
   ],
   "source": [
    "group_number = [x for x in range(1, 15)]\n",
    "\n",
    "# our range data type object is from a Class which constructs a list of numbers\n",
    "    #from start, end, and step-wise parameters\n",
    "\n",
    "# We used 15 as our upper bound for the range since the integer generation stops when this value is reached\n",
    "\n",
    "pprint(group_number)"
   ]
  },
  {
   "cell_type": "code",
   "execution_count": 35,
   "metadata": {},
   "outputs": [],
   "source": [
    "# Let's make a copy of my student-pairs list so that I can safely delete values but still retain my original list\n",
    "pairs_unassigned = students_paired.copy()\n",
    "\n",
    "# Initialize a dictionary where the key will be the student-pair tuple and the value will be the\n",
    "# number corresponding to the week they present in the syllabus\n",
    "paired_groups = {}\n",
    "\n",
    "for week in lecture_weeks:\n",
    "    pair = random.choice(pairs_unassigned)\n",
    "    paired_groups[pair] = week\n",
    "    \n",
    "    pair_indx = pairs_unassigned.index(pair)\n",
    "    del pairs_unassigned[pair_indx]"
   ]
  },
  {
   "cell_type": "code",
   "execution_count": 36,
   "metadata": {},
   "outputs": [
    {
     "data": {
      "text/plain": [
       "{('C. Yang', 'A. Shrivastava'): 4,\n",
       " ('J. Dunn', 'W. Park'): 14,\n",
       " ('J. Lo', 'B. Choi'): 1,\n",
       " ('M. Wang', 'J. Zeugner'): 9,\n",
       " ('N. Dias', 'L. Penaloza'): 3,\n",
       " ('P. Rayi', 'H. So'): 10,\n",
       " ('Q. Chen', 'D. Trevino'): 11,\n",
       " ('Q. Wang', 'J. Hwang'): 2,\n",
       " ('S. Bajpai', 'A. Nguyen'): 6,\n",
       " ('V. Scipione', 'A. Bailey'): 12,\n",
       " ('Y. Dong', 'V. Hegde'): 5,\n",
       " ('Y. Qian', 'A. Lewis'): 13,\n",
       " ('Y. Wang', 'M. Sheth'): 8,\n",
       " ('Y. Yao', 'W. Wu'): 7}"
      ]
     },
     "execution_count": 36,
     "metadata": {},
     "output_type": "execute_result"
    }
   ],
   "source": [
    "paired_groups"
   ]
  },
  {
   "cell_type": "code",
   "execution_count": 37,
   "metadata": {},
   "outputs": [
    {
     "name": "stdout",
     "output_type": "stream",
     "text": [
      "[[1, ('J. Lo', 'B. Choi')],\n",
      " [2, ('Q. Wang', 'J. Hwang')],\n",
      " [3, ('N. Dias', 'L. Penaloza')],\n",
      " [4, ('C. Yang', 'A. Shrivastava')],\n",
      " [5, ('Y. Dong', 'V. Hegde')],\n",
      " [6, ('S. Bajpai', 'A. Nguyen')],\n",
      " [7, ('Y. Yao', 'W. Wu')],\n",
      " [8, ('Y. Wang', 'M. Sheth')],\n",
      " [9, ('M. Wang', 'J. Zeugner')],\n",
      " [10, ('P. Rayi', 'H. So')],\n",
      " [11, ('Q. Chen', 'D. Trevino')],\n",
      " [12, ('V. Scipione', 'A. Bailey')],\n",
      " [13, ('Y. Qian', 'A. Lewis')],\n",
      " [14, ('J. Dunn', 'W. Park')]]\n"
     ]
    }
   ],
   "source": [
    "# Beautify and Sort the pairs and their weeks\n",
    "pprint(sorted([[paired_groups[x], x] for x in paired_groups.keys()]))"
   ]
  },
  {
   "cell_type": "markdown",
   "metadata": {},
   "source": [
    "---"
   ]
  },
  {
   "cell_type": "markdown",
   "metadata": {},
   "source": [
    "<div style=\"text-align: right\"> \n",
    "## QED            "
   ]
  }
 ],
 "metadata": {
  "kernelspec": {
   "display_name": "Python 3",
   "language": "python",
   "name": "python3"
  },
  "language_info": {
   "codemirror_mode": {
    "name": "ipython",
    "version": 3
   },
   "file_extension": ".py",
   "mimetype": "text/x-python",
   "name": "python",
   "nbconvert_exporter": "python",
   "pygments_lexer": "ipython3",
   "version": "3.6.1"
  }
 },
 "nbformat": 4,
 "nbformat_minor": 2
}
